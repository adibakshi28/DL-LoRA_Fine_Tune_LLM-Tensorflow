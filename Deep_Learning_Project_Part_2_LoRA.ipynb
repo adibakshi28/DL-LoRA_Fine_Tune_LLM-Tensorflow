{
  "nbformat": 4,
  "nbformat_minor": 0,
  "metadata": {
    "colab": {
      "provenance": [],
      "gpuType": "T4"
    },
    "kernelspec": {
      "name": "python3",
      "display_name": "Python 3"
    },
    "language_info": {
      "name": "python"
    },
    "accelerator": "GPU"
  },
  "cells": [
    {
      "cell_type": "code",
      "execution_count": 13,
      "metadata": {
        "colab": {
          "base_uri": "https://localhost:8080/"
        },
        "id": "hTX60gQVcD2E",
        "outputId": "98a7df2a-170d-45bd-9042-a87fad6c0df5"
      },
      "outputs": [
        {
          "output_type": "stream",
          "name": "stdout",
          "text": [
            "Requirement already satisfied: datasets in /usr/local/lib/python3.10/dist-packages (2.19.1)\n",
            "Requirement already satisfied: tensorflow in /usr/local/lib/python3.10/dist-packages (2.15.0)\n",
            "Requirement already satisfied: transformers[sentencepiece] in /usr/local/lib/python3.10/dist-packages (4.40.2)\n",
            "Requirement already satisfied: filelock in /usr/local/lib/python3.10/dist-packages (from datasets) (3.14.0)\n",
            "Requirement already satisfied: numpy>=1.17 in /usr/local/lib/python3.10/dist-packages (from datasets) (1.25.2)\n",
            "Requirement already satisfied: pyarrow>=12.0.0 in /usr/local/lib/python3.10/dist-packages (from datasets) (14.0.2)\n",
            "Requirement already satisfied: pyarrow-hotfix in /usr/local/lib/python3.10/dist-packages (from datasets) (0.6)\n",
            "Requirement already satisfied: dill<0.3.9,>=0.3.0 in /usr/local/lib/python3.10/dist-packages (from datasets) (0.3.8)\n",
            "Requirement already satisfied: pandas in /usr/local/lib/python3.10/dist-packages (from datasets) (2.0.3)\n",
            "Requirement already satisfied: requests>=2.19.0 in /usr/local/lib/python3.10/dist-packages (from datasets) (2.31.0)\n",
            "Requirement already satisfied: tqdm>=4.62.1 in /usr/local/lib/python3.10/dist-packages (from datasets) (4.66.4)\n",
            "Requirement already satisfied: xxhash in /usr/local/lib/python3.10/dist-packages (from datasets) (3.4.1)\n",
            "Requirement already satisfied: multiprocess in /usr/local/lib/python3.10/dist-packages (from datasets) (0.70.16)\n",
            "Requirement already satisfied: fsspec[http]<=2024.3.1,>=2023.1.0 in /usr/local/lib/python3.10/dist-packages (from datasets) (2023.6.0)\n",
            "Requirement already satisfied: aiohttp in /usr/local/lib/python3.10/dist-packages (from datasets) (3.9.5)\n",
            "Requirement already satisfied: huggingface-hub>=0.21.2 in /usr/local/lib/python3.10/dist-packages (from datasets) (0.23.0)\n",
            "Requirement already satisfied: packaging in /usr/local/lib/python3.10/dist-packages (from datasets) (24.0)\n",
            "Requirement already satisfied: pyyaml>=5.1 in /usr/local/lib/python3.10/dist-packages (from datasets) (6.0.1)\n",
            "Requirement already satisfied: absl-py>=1.0.0 in /usr/local/lib/python3.10/dist-packages (from tensorflow) (1.4.0)\n",
            "Requirement already satisfied: astunparse>=1.6.0 in /usr/local/lib/python3.10/dist-packages (from tensorflow) (1.6.3)\n",
            "Requirement already satisfied: flatbuffers>=23.5.26 in /usr/local/lib/python3.10/dist-packages (from tensorflow) (24.3.25)\n",
            "Requirement already satisfied: gast!=0.5.0,!=0.5.1,!=0.5.2,>=0.2.1 in /usr/local/lib/python3.10/dist-packages (from tensorflow) (0.5.4)\n",
            "Requirement already satisfied: google-pasta>=0.1.1 in /usr/local/lib/python3.10/dist-packages (from tensorflow) (0.2.0)\n",
            "Requirement already satisfied: h5py>=2.9.0 in /usr/local/lib/python3.10/dist-packages (from tensorflow) (3.9.0)\n",
            "Requirement already satisfied: libclang>=13.0.0 in /usr/local/lib/python3.10/dist-packages (from tensorflow) (18.1.1)\n",
            "Requirement already satisfied: ml-dtypes~=0.2.0 in /usr/local/lib/python3.10/dist-packages (from tensorflow) (0.2.0)\n",
            "Requirement already satisfied: opt-einsum>=2.3.2 in /usr/local/lib/python3.10/dist-packages (from tensorflow) (3.3.0)\n",
            "Requirement already satisfied: protobuf!=4.21.0,!=4.21.1,!=4.21.2,!=4.21.3,!=4.21.4,!=4.21.5,<5.0.0dev,>=3.20.3 in /usr/local/lib/python3.10/dist-packages (from tensorflow) (3.20.3)\n",
            "Requirement already satisfied: setuptools in /usr/local/lib/python3.10/dist-packages (from tensorflow) (67.7.2)\n",
            "Requirement already satisfied: six>=1.12.0 in /usr/local/lib/python3.10/dist-packages (from tensorflow) (1.16.0)\n",
            "Requirement already satisfied: termcolor>=1.1.0 in /usr/local/lib/python3.10/dist-packages (from tensorflow) (2.4.0)\n",
            "Requirement already satisfied: typing-extensions>=3.6.6 in /usr/local/lib/python3.10/dist-packages (from tensorflow) (4.11.0)\n",
            "Requirement already satisfied: wrapt<1.15,>=1.11.0 in /usr/local/lib/python3.10/dist-packages (from tensorflow) (1.14.1)\n",
            "Requirement already satisfied: tensorflow-io-gcs-filesystem>=0.23.1 in /usr/local/lib/python3.10/dist-packages (from tensorflow) (0.37.0)\n",
            "Requirement already satisfied: grpcio<2.0,>=1.24.3 in /usr/local/lib/python3.10/dist-packages (from tensorflow) (1.63.0)\n",
            "Requirement already satisfied: tensorboard<2.16,>=2.15 in /usr/local/lib/python3.10/dist-packages (from tensorflow) (2.15.2)\n",
            "Requirement already satisfied: tensorflow-estimator<2.16,>=2.15.0 in /usr/local/lib/python3.10/dist-packages (from tensorflow) (2.15.0)\n",
            "Requirement already satisfied: keras<2.16,>=2.15.0 in /usr/local/lib/python3.10/dist-packages (from tensorflow) (2.15.0)\n",
            "Requirement already satisfied: regex!=2019.12.17 in /usr/local/lib/python3.10/dist-packages (from transformers[sentencepiece]) (2023.12.25)\n",
            "Requirement already satisfied: tokenizers<0.20,>=0.19 in /usr/local/lib/python3.10/dist-packages (from transformers[sentencepiece]) (0.19.1)\n",
            "Requirement already satisfied: safetensors>=0.4.1 in /usr/local/lib/python3.10/dist-packages (from transformers[sentencepiece]) (0.4.3)\n",
            "Requirement already satisfied: sentencepiece!=0.1.92,>=0.1.91 in /usr/local/lib/python3.10/dist-packages (from transformers[sentencepiece]) (0.1.99)\n",
            "Requirement already satisfied: wheel<1.0,>=0.23.0 in /usr/local/lib/python3.10/dist-packages (from astunparse>=1.6.0->tensorflow) (0.43.0)\n",
            "Requirement already satisfied: aiosignal>=1.1.2 in /usr/local/lib/python3.10/dist-packages (from aiohttp->datasets) (1.3.1)\n",
            "Requirement already satisfied: attrs>=17.3.0 in /usr/local/lib/python3.10/dist-packages (from aiohttp->datasets) (23.2.0)\n",
            "Requirement already satisfied: frozenlist>=1.1.1 in /usr/local/lib/python3.10/dist-packages (from aiohttp->datasets) (1.4.1)\n",
            "Requirement already satisfied: multidict<7.0,>=4.5 in /usr/local/lib/python3.10/dist-packages (from aiohttp->datasets) (6.0.5)\n",
            "Requirement already satisfied: yarl<2.0,>=1.0 in /usr/local/lib/python3.10/dist-packages (from aiohttp->datasets) (1.9.4)\n",
            "Requirement already satisfied: async-timeout<5.0,>=4.0 in /usr/local/lib/python3.10/dist-packages (from aiohttp->datasets) (4.0.3)\n",
            "Requirement already satisfied: charset-normalizer<4,>=2 in /usr/local/lib/python3.10/dist-packages (from requests>=2.19.0->datasets) (3.3.2)\n",
            "Requirement already satisfied: idna<4,>=2.5 in /usr/local/lib/python3.10/dist-packages (from requests>=2.19.0->datasets) (3.7)\n",
            "Requirement already satisfied: urllib3<3,>=1.21.1 in /usr/local/lib/python3.10/dist-packages (from requests>=2.19.0->datasets) (2.0.7)\n",
            "Requirement already satisfied: certifi>=2017.4.17 in /usr/local/lib/python3.10/dist-packages (from requests>=2.19.0->datasets) (2024.2.2)\n",
            "Requirement already satisfied: google-auth<3,>=1.6.3 in /usr/local/lib/python3.10/dist-packages (from tensorboard<2.16,>=2.15->tensorflow) (2.27.0)\n",
            "Requirement already satisfied: google-auth-oauthlib<2,>=0.5 in /usr/local/lib/python3.10/dist-packages (from tensorboard<2.16,>=2.15->tensorflow) (1.2.0)\n",
            "Requirement already satisfied: markdown>=2.6.8 in /usr/local/lib/python3.10/dist-packages (from tensorboard<2.16,>=2.15->tensorflow) (3.6)\n",
            "Requirement already satisfied: tensorboard-data-server<0.8.0,>=0.7.0 in /usr/local/lib/python3.10/dist-packages (from tensorboard<2.16,>=2.15->tensorflow) (0.7.2)\n",
            "Requirement already satisfied: werkzeug>=1.0.1 in /usr/local/lib/python3.10/dist-packages (from tensorboard<2.16,>=2.15->tensorflow) (3.0.3)\n",
            "Requirement already satisfied: python-dateutil>=2.8.2 in /usr/local/lib/python3.10/dist-packages (from pandas->datasets) (2.8.2)\n",
            "Requirement already satisfied: pytz>=2020.1 in /usr/local/lib/python3.10/dist-packages (from pandas->datasets) (2023.4)\n",
            "Requirement already satisfied: tzdata>=2022.1 in /usr/local/lib/python3.10/dist-packages (from pandas->datasets) (2024.1)\n",
            "Requirement already satisfied: cachetools<6.0,>=2.0.0 in /usr/local/lib/python3.10/dist-packages (from google-auth<3,>=1.6.3->tensorboard<2.16,>=2.15->tensorflow) (5.3.3)\n",
            "Requirement already satisfied: pyasn1-modules>=0.2.1 in /usr/local/lib/python3.10/dist-packages (from google-auth<3,>=1.6.3->tensorboard<2.16,>=2.15->tensorflow) (0.4.0)\n",
            "Requirement already satisfied: rsa<5,>=3.1.4 in /usr/local/lib/python3.10/dist-packages (from google-auth<3,>=1.6.3->tensorboard<2.16,>=2.15->tensorflow) (4.9)\n",
            "Requirement already satisfied: requests-oauthlib>=0.7.0 in /usr/local/lib/python3.10/dist-packages (from google-auth-oauthlib<2,>=0.5->tensorboard<2.16,>=2.15->tensorflow) (1.3.1)\n",
            "Requirement already satisfied: MarkupSafe>=2.1.1 in /usr/local/lib/python3.10/dist-packages (from werkzeug>=1.0.1->tensorboard<2.16,>=2.15->tensorflow) (2.1.5)\n",
            "Requirement already satisfied: pyasn1<0.7.0,>=0.4.6 in /usr/local/lib/python3.10/dist-packages (from pyasn1-modules>=0.2.1->google-auth<3,>=1.6.3->tensorboard<2.16,>=2.15->tensorflow) (0.6.0)\n",
            "Requirement already satisfied: oauthlib>=3.0.0 in /usr/local/lib/python3.10/dist-packages (from requests-oauthlib>=0.7.0->google-auth-oauthlib<2,>=0.5->tensorboard<2.16,>=2.15->tensorflow) (3.2.2)\n"
          ]
        }
      ],
      "source": [
        "pip install datasets tensorflow \"transformers[sentencepiece]\""
      ]
    },
    {
      "cell_type": "code",
      "source": [
        "# Ignore annoying warnings\n",
        "import warnings\n",
        "warnings.filterwarnings(\"ignore\")"
      ],
      "metadata": {
        "id": "_QslbmQ0eX4j"
      },
      "execution_count": 14,
      "outputs": []
    },
    {
      "cell_type": "markdown",
      "source": [
        "# Training only classifier head - Model : \"distilbert-base-uncased\""
      ],
      "metadata": {
        "id": "IaReTYEqgHze"
      }
    },
    {
      "cell_type": "code",
      "source": [
        "from sklearn.metrics import classification_report, confusion_matrix\n",
        "from datasets import load_dataset\n",
        "from transformers import AutoTokenizer, TFAutoModelForSequenceClassification\n",
        "import tensorflow as tf\n",
        "import numpy as np\n",
        "\n",
        "# Load dataset and tokenizer\n",
        "dataset = load_dataset(\"financial_phrasebank\", \"sentences_allagree\")\n",
        "checkpoint = \"distilbert-base-uncased\"\n",
        "tokenizer = AutoTokenizer.from_pretrained(checkpoint)\n",
        "\n",
        "def tokenize_function(examples):\n",
        "    return tokenizer(\n",
        "        examples[\"sentence\"],\n",
        "        padding=\"max_length\",\n",
        "        truncation=True,\n",
        "        max_length=512\n",
        "    )\n",
        "\n",
        "tokenized_datasets = dataset.map(tokenize_function, batched=True)\n",
        "\n",
        "train_val_split = tokenized_datasets[\"train\"].train_test_split(test_size=0.2, seed=42)\n",
        "val_test_split = train_val_split['test'].train_test_split(test_size=0.5, seed=42)\n",
        "\n",
        "def to_tf_dataset(split, shuffle=False):\n",
        "    return split.to_tf_dataset(\n",
        "        columns=[\"input_ids\", \"attention_mask\"],\n",
        "        label_cols=[\"label\"],\n",
        "        shuffle=shuffle,\n",
        "        batch_size=8,\n",
        "        collate_fn=None\n",
        "    )\n",
        "\n",
        "tf_train_dataset = to_tf_dataset(train_val_split['train'], shuffle=True)\n",
        "tf_validation_dataset = to_tf_dataset(val_test_split['train'], shuffle=True)\n",
        "tf_test_dataset = to_tf_dataset(val_test_split['test'], shuffle=False)\n",
        "\n",
        "# Define and compile model\n",
        "model = TFAutoModelForSequenceClassification.from_pretrained(checkpoint, num_labels=3)\n",
        "model.distilbert.trainable = False\n",
        "\n",
        "initial_learning_rate = 5e-5\n",
        "lr_schedule = tf.keras.optimizers.schedules.PolynomialDecay(\n",
        "    initial_learning_rate=initial_learning_rate,\n",
        "    decay_steps=10000,\n",
        "    end_learning_rate=0.0,\n",
        "    power=1.0\n",
        ")\n",
        "\n",
        "optimizer = tf.keras.optimizers.Adam(learning_rate=lr_schedule)\n",
        "model.compile(\n",
        "    optimizer=optimizer,\n",
        "    loss=tf.keras.losses.SparseCategoricalCrossentropy(from_logits=True),\n",
        "    metrics=['accuracy']\n",
        ")\n",
        "\n",
        "model.summary()\n",
        "\n",
        "# Training\n",
        "model.fit(tf_train_dataset, epochs=3, validation_data=tf_validation_dataset)\n",
        "\n",
        "# Evaluation\n",
        "eval_loss, eval_accuracy = model.evaluate(tf_test_dataset)\n",
        "print(f\"Evaluated Test Loss: {eval_loss}, Evaluated Test Accuracy: {eval_accuracy}\")\n"
      ],
      "metadata": {
        "colab": {
          "base_uri": "https://localhost:8080/"
        },
        "id": "LoxVRAv7eZSV",
        "outputId": "853546f1-7aa2-4895-b91c-c50ac5c77bfc"
      },
      "execution_count": 15,
      "outputs": [
        {
          "output_type": "stream",
          "name": "stderr",
          "text": [
            "Some layers from the model checkpoint at distilbert-base-uncased were not used when initializing TFDistilBertForSequenceClassification: ['vocab_projector', 'vocab_layer_norm', 'vocab_transform', 'activation_13']\n",
            "- This IS expected if you are initializing TFDistilBertForSequenceClassification from the checkpoint of a model trained on another task or with another architecture (e.g. initializing a BertForSequenceClassification model from a BertForPreTraining model).\n",
            "- This IS NOT expected if you are initializing TFDistilBertForSequenceClassification from the checkpoint of a model that you expect to be exactly identical (initializing a BertForSequenceClassification model from a BertForSequenceClassification model).\n",
            "Some layers of TFDistilBertForSequenceClassification were not initialized from the model checkpoint at distilbert-base-uncased and are newly initialized: ['dropout_119', 'pre_classifier', 'classifier']\n",
            "You should probably TRAIN this model on a down-stream task to be able to use it for predictions and inference.\n"
          ]
        },
        {
          "output_type": "stream",
          "name": "stdout",
          "text": [
            "Model: \"tf_distil_bert_for_sequence_classification_5\"\n",
            "_________________________________________________________________\n",
            " Layer (type)                Output Shape              Param #   \n",
            "=================================================================\n",
            " distilbert (TFDistilBertMa  multiple                  66362880  \n",
            " inLayer)                                                        \n",
            "                                                                 \n",
            " pre_classifier (Dense)      multiple                  590592    \n",
            "                                                                 \n",
            " classifier (Dense)          multiple                  2307      \n",
            "                                                                 \n",
            " dropout_119 (Dropout)       multiple                  0         \n",
            "                                                                 \n",
            "=================================================================\n",
            "Total params: 66955779 (255.42 MB)\n",
            "Trainable params: 592899 (2.26 MB)\n",
            "Non-trainable params: 66362880 (253.15 MB)\n",
            "_________________________________________________________________\n"
          ]
        }
      ]
    },
    {
      "cell_type": "markdown",
      "source": [
        "## Saving Model Weights of only classifier head trained model"
      ],
      "metadata": {
        "id": "2kq96k_ugX_Q"
      }
    },
    {
      "cell_type": "code",
      "source": [
        "model.save_weights('classifier_head_weights.h5')"
      ],
      "metadata": {
        "id": "QDFbk71lehEP"
      },
      "execution_count": 4,
      "outputs": []
    },
    {
      "cell_type": "markdown",
      "source": [
        "# Keeping the trained Classifier head of the first part: Fine-tune **all** the weights\n",
        "\n",
        "Using conventional approach\n"
      ],
      "metadata": {
        "id": "Qj1J2yebf97-"
      }
    },
    {
      "cell_type": "code",
      "source": [
        "# Load the pre-trained model for fine-tuning all layers except the classifier\n",
        "model_minus_classifier = TFAutoModelForSequenceClassification.from_pretrained(checkpoint, num_labels=3)\n",
        "\n",
        "# Now load the weights saved back into the model\n",
        "model_minus_classifier.load_weights('classifier_head_weights.h5', by_name=True)\n",
        "\n",
        "# Set only the pre_classifier and classifier layer to non-trainable to preserve its weights\n",
        "model_minus_classifier.pre_classifier.trainable = False\n",
        "model_minus_classifier.classifier.trainable = False\n",
        "\n",
        "initial_learning_rate = 5e-5\n",
        "lr_schedule = tf.keras.optimizers.schedules.PolynomialDecay(\n",
        "    initial_learning_rate=initial_learning_rate,\n",
        "    decay_steps=10000,\n",
        "    end_learning_rate=0.0,\n",
        "    power=1.0\n",
        ")\n",
        "optimizer = tf.keras.optimizers.Adam(learning_rate=lr_schedule)\n",
        "\n",
        "model_minus_classifier.compile(\n",
        "    optimizer=optimizer,\n",
        "    loss=tf.keras.losses.SparseCategoricalCrossentropy(from_logits=True),\n",
        "    metrics=['accuracy']\n",
        ")\n",
        "\n",
        "model_minus_classifier.summary()\n",
        "\n",
        "history = model_minus_classifier.fit(\n",
        "    tf_train_dataset,\n",
        "    epochs=3,\n",
        "    validation_data=tf_validation_dataset\n",
        ")\n",
        "\n",
        "# Evaluate the model on the test set\n",
        "test_loss, test_accuracy = model_minus_classifier.evaluate(tf_test_dataset)\n",
        "print(f\"Test Loss: {test_loss}, Test Accuracy: {test_accuracy}\")"
      ],
      "metadata": {
        "colab": {
          "base_uri": "https://localhost:8080/"
        },
        "id": "0_lFv_Jb24nl",
        "outputId": "cd1b1b68-c73c-4465-cfa2-afe0e7c4df74"
      },
      "execution_count": 60,
      "outputs": [
        {
          "output_type": "stream",
          "name": "stderr",
          "text": [
            "Some layers from the model checkpoint at distilbert-base-uncased were not used when initializing TFDistilBertForSequenceClassification: ['vocab_projector', 'vocab_layer_norm', 'vocab_transform', 'activation_13']\n",
            "- This IS expected if you are initializing TFDistilBertForSequenceClassification from the checkpoint of a model trained on another task or with another architecture (e.g. initializing a BertForSequenceClassification model from a BertForPreTraining model).\n",
            "- This IS NOT expected if you are initializing TFDistilBertForSequenceClassification from the checkpoint of a model that you expect to be exactly identical (initializing a BertForSequenceClassification model from a BertForSequenceClassification model).\n",
            "Some layers of TFDistilBertForSequenceClassification were not initialized from the model checkpoint at distilbert-base-uncased and are newly initialized: ['dropout_519', 'pre_classifier', 'classifier']\n",
            "You should probably TRAIN this model on a down-stream task to be able to use it for predictions and inference.\n"
          ]
        },
        {
          "output_type": "stream",
          "name": "stdout",
          "text": [
            "Model: \"tf_distil_bert_for_sequence_classification_25\"\n",
            "_________________________________________________________________\n",
            " Layer (type)                Output Shape              Param #   \n",
            "=================================================================\n",
            " distilbert (TFDistilBertMa  multiple                  66362880  \n",
            " inLayer)                                                        \n",
            "                                                                 \n",
            " pre_classifier (Dense)      multiple                  590592    \n",
            "                                                                 \n",
            " classifier (Dense)          multiple                  2307      \n",
            "                                                                 \n",
            " dropout_519 (Dropout)       multiple                  0         \n",
            "                                                                 \n",
            "=================================================================\n",
            "Total params: 66955779 (255.42 MB)\n",
            "Trainable params: 66362880 (253.15 MB)\n",
            "Non-trainable params: 592899 (2.26 MB)\n",
            "_________________________________________________________________\n",
            "Epoch 1/3\n",
            "227/227 [==============================] - 131s 489ms/step - loss: 0.2206 - accuracy: 0.9260 - val_loss: 0.1626 - val_accuracy: 0.9292\n",
            "Epoch 2/3\n",
            "227/227 [==============================] - 110s 484ms/step - loss: 0.0778 - accuracy: 0.9757 - val_loss: 0.1388 - val_accuracy: 0.9513\n",
            "Epoch 3/3\n",
            "227/227 [==============================] - 109s 480ms/step - loss: 0.0281 - accuracy: 0.9906 - val_loss: 0.2725 - val_accuracy: 0.9336\n",
            "29/29 [==============================] - 5s 164ms/step - loss: 0.1957 - accuracy: 0.9559\n",
            "Test Loss: 0.19569317996501923, Test Accuracy: 0.9559471607208252\n"
          ]
        }
      ]
    },
    {
      "cell_type": "markdown",
      "source": [
        "**Training:**\n",
        "\n",
        "* Total params: 66955779 (255.42 MB)\n",
        "* Trainable params: 66362880 (253.15 MB)\n",
        "* Non-trainable params: 592899 (2.26 MB)\n",
        "\n",
        "**Result:**\n",
        "\n",
        "* Test Loss: 0.195, Test Accuracy: 95.5%"
      ],
      "metadata": {
        "id": "UzEeVtvV77hp"
      }
    },
    {
      "cell_type": "markdown",
      "source": [
        "# Fine-tune **only the weights** of the FFN blocks in every layer using LoRA technique"
      ],
      "metadata": {
        "id": "aRNBGdQ_gqVk"
      }
    },
    {
      "cell_type": "code",
      "source": [
        "import tensorflow as tf\n",
        "from transformers import TFDistilBertForSequenceClassification, DistilBertConfig\n",
        "\n",
        "class LoRALayer(tf.keras.layers.Layer):\n",
        "    def __init__(self, original_layer, rank):\n",
        "        super(LoRALayer, self).__init__()\n",
        "        self.original_layer = original_layer\n",
        "        self.rank = rank\n",
        "        self.input_dim = original_layer.kernel.shape[0]\n",
        "        self.output_dim = original_layer.kernel.shape[1]\n",
        "\n",
        "        # Initialize LoRA parameters\n",
        "        self.A = self.add_weight(shape=(self.input_dim, rank), initializer='glorot_uniform', trainable=True)\n",
        "        self.B = self.add_weight(shape=(rank, self.output_dim), initializer='glorot_uniform', trainable=True)\n",
        "        self.lora_alpha = 1.0\n",
        "\n",
        "    def call(self, inputs):\n",
        "        # Compute the original output\n",
        "        original_output = self.original_layer(inputs)\n",
        "\n",
        "        # Compute the low-rank adaptation\n",
        "        lora_update = self.lora_alpha * tf.matmul(inputs, tf.matmul(self.A, self.B))\n",
        "\n",
        "        return original_output + lora_update\n",
        "\n",
        "checkpoint = \"distilbert-base-uncased\"\n",
        "model_lora = TFDistilBertForSequenceClassification.from_pretrained(checkpoint, num_labels=3)\n",
        "\n",
        "# Load the previously saved weights into the model\n",
        "model_lora.load_weights('classifier_head_weights.h5', by_name=True)\n",
        "\n",
        "# Rank for LoRA matrices\n",
        "lora_rank = 8\n",
        "\n",
        "# Replace each lin1 and lin2 layer in each transformer layer with a LoRA-enhanced layer\n",
        "for i, layer in enumerate(model_lora.distilbert.transformer.layer):\n",
        "    original_lin1 = layer.ffn.lin1\n",
        "    original_lin2 = layer.ffn.lin2\n",
        "    layer.ffn.lin1 = LoRALayer(original_lin1, rank=lora_rank)\n",
        "    layer.ffn.lin2 = LoRALayer(original_lin2, rank=lora_rank)\n",
        "\n",
        "    original_lin1.trainable = False\n",
        "    original_lin2.trainable = False\n",
        "\n",
        "# Freeze weights of the classifier head\n",
        "model_lora.pre_classifier.trainable = False\n",
        "model_lora.classifier.trainable = False\n",
        "\n",
        "# Freeze all other parameters except for the LoRA parameters\n",
        "for layer in model_lora.distilbert.transformer.layer:\n",
        "    layer.attention.trainable = False\n",
        "\n",
        "initial_learning_rate = 5e-5\n",
        "lr_schedule = tf.keras.optimizers.schedules.PolynomialDecay(\n",
        "    initial_learning_rate=initial_learning_rate,\n",
        "    decay_steps=10000,\n",
        "    end_learning_rate=0.0,\n",
        "    power=1.0\n",
        ")\n",
        "optimizer = tf.keras.optimizers.Adam(learning_rate=lr_schedule)\n",
        "\n",
        "model_lora.compile(optimizer=optimizer, loss=tf.keras.losses.SparseCategoricalCrossentropy(from_logits=True), metrics=['accuracy'])\n",
        "\n",
        "model_lora.summary()\n",
        "\n",
        "# Train the model\n",
        "model_lora.fit(tf_train_dataset, epochs=3, validation_data=tf_validation_dataset)\n",
        "\n",
        "test_loss, test_accuracy = model_lora.evaluate(tf_test_dataset)\n",
        "print(f\"Test Loss: {test_loss}, Test Accuracy: {test_accuracy}\")"
      ],
      "metadata": {
        "colab": {
          "base_uri": "https://localhost:8080/"
        },
        "id": "3jPI2Nekqn86",
        "outputId": "51aae474-8737-4537-aaca-49bac7170eff"
      },
      "execution_count": 64,
      "outputs": [
        {
          "output_type": "stream",
          "name": "stderr",
          "text": [
            "Some layers from the model checkpoint at distilbert-base-uncased were not used when initializing TFDistilBertForSequenceClassification: ['vocab_projector', 'vocab_layer_norm', 'vocab_transform', 'activation_13']\n",
            "- This IS expected if you are initializing TFDistilBertForSequenceClassification from the checkpoint of a model trained on another task or with another architecture (e.g. initializing a BertForSequenceClassification model from a BertForPreTraining model).\n",
            "- This IS NOT expected if you are initializing TFDistilBertForSequenceClassification from the checkpoint of a model that you expect to be exactly identical (initializing a BertForSequenceClassification model from a BertForSequenceClassification model).\n",
            "Some layers of TFDistilBertForSequenceClassification were not initialized from the model checkpoint at distilbert-base-uncased and are newly initialized: ['pre_classifier', 'dropout_599', 'classifier']\n",
            "You should probably TRAIN this model on a down-stream task to be able to use it for predictions and inference.\n"
          ]
        },
        {
          "output_type": "stream",
          "name": "stdout",
          "text": [
            "Model: \"tf_distil_bert_for_sequence_classification_29\"\n",
            "_________________________________________________________________\n",
            " Layer (type)                Output Shape              Param #   \n",
            "=================================================================\n",
            " distilbert (TFDistilBertMa  multiple                  66731520  \n",
            " inLayer)                                                        \n",
            "                                                                 \n",
            " pre_classifier (Dense)      multiple                  590592    \n",
            "                                                                 \n",
            " classifier (Dense)          multiple                  2307      \n",
            "                                                                 \n",
            " dropout_599 (Dropout)       multiple                  0         \n",
            "                                                                 \n",
            "=================================================================\n",
            "Total params: 67324419 (256.82 MB)\n",
            "Trainable params: 24222720 (92.40 MB)\n",
            "Non-trainable params: 43101699 (164.42 MB)\n",
            "_________________________________________________________________\n",
            "Epoch 1/3\n",
            "227/227 [==============================] - 148s 597ms/step - loss: 0.4028 - accuracy: 0.8161 - val_loss: 0.3618 - val_accuracy: 0.8319\n",
            "Epoch 2/3\n",
            "227/227 [==============================] - 136s 600ms/step - loss: 0.2232 - accuracy: 0.9260 - val_loss: 0.2194 - val_accuracy: 0.9115\n",
            "Epoch 3/3\n",
            "227/227 [==============================] - 137s 603ms/step - loss: 0.1062 - accuracy: 0.9735 - val_loss: 0.1728 - val_accuracy: 0.9248\n",
            "29/29 [==============================] - 6s 219ms/step - loss: 0.1827 - accuracy: 0.9339\n",
            "Test Loss: 0.18266057968139648, Test Accuracy: 0.933920681476593\n"
          ]
        }
      ]
    },
    {
      "cell_type": "markdown",
      "source": [
        "**Training:**\n",
        "\n",
        "* Total params: 67324419 (256.82 MB)\n",
        "\n",
        "* Trainable params: 24222720 (92.40 MB)\n",
        "\n",
        "* Non-trainable params: 43101699 (164.42 MB)\n",
        "\n",
        "**Result:**\n",
        "\n",
        "* Test Loss: 0.182, Test Accuracy: 93.3%"
      ],
      "metadata": {
        "id": "Ec_qeFup7pGB"
      }
    },
    {
      "cell_type": "markdown",
      "source": [
        "Interpretation:\n",
        "LoRA is training just 33% weights as the conventional method but still getting a comparable accuracy to the conventional way of fine tuning"
      ],
      "metadata": {
        "id": "XRMsce__8HOp"
      }
    },
    {
      "cell_type": "markdown",
      "source": [
        "# Q) How does the performance of the model fine-tuned with LoRA compare to that of the pre-trained (not fine-tuned) model?"
      ],
      "metadata": {
        "id": "fArBtdsK4RIc"
      }
    },
    {
      "cell_type": "markdown",
      "source": [
        "Getting out of sample accuracy for pre-trained distilBERT model (not fine-tuned)"
      ],
      "metadata": {
        "id": "4cUBomLA4WHA"
      }
    },
    {
      "cell_type": "code",
      "source": [
        "# Load the pre-trained model for fine-tuning all layers except the classifier\n",
        "model_without_pre_training = TFAutoModelForSequenceClassification.from_pretrained(checkpoint, num_labels=3)\n",
        "\n",
        "\n",
        "initial_learning_rate = 5e-5\n",
        "lr_schedule = tf.keras.optimizers.schedules.PolynomialDecay(\n",
        "    initial_learning_rate=initial_learning_rate,\n",
        "    decay_steps=10000,\n",
        "    end_learning_rate=0.0,\n",
        "    power=1.0\n",
        ")\n",
        "optimizer = tf.keras.optimizers.Adam(learning_rate=lr_schedule)\n",
        "\n",
        "model_without_pre_training.compile(\n",
        "    optimizer=optimizer,\n",
        "    loss=tf.keras.losses.SparseCategoricalCrossentropy(from_logits=True),\n",
        "    metrics=['accuracy']\n",
        ")\n",
        "\n",
        "model_without_pre_training.summary()\n",
        "\n",
        "# Evaluate the model on the test set\n",
        "test_loss, test_accuracy = model_without_pre_training.evaluate(tf_test_dataset)\n",
        "print(f\"Test Loss: {test_loss}, Test Accuracy: {test_accuracy}\")\n"
      ],
      "metadata": {
        "colab": {
          "base_uri": "https://localhost:8080/"
        },
        "id": "jTQquQJE4oAA",
        "outputId": "fb0528a4-434c-4b26-9924-8125e54660fc"
      },
      "execution_count": 63,
      "outputs": [
        {
          "output_type": "stream",
          "name": "stderr",
          "text": [
            "Some layers from the model checkpoint at distilbert-base-uncased were not used when initializing TFDistilBertForSequenceClassification: ['vocab_projector', 'vocab_layer_norm', 'vocab_transform', 'activation_13']\n",
            "- This IS expected if you are initializing TFDistilBertForSequenceClassification from the checkpoint of a model trained on another task or with another architecture (e.g. initializing a BertForSequenceClassification model from a BertForPreTraining model).\n",
            "- This IS NOT expected if you are initializing TFDistilBertForSequenceClassification from the checkpoint of a model that you expect to be exactly identical (initializing a BertForSequenceClassification model from a BertForSequenceClassification model).\n",
            "Some layers of TFDistilBertForSequenceClassification were not initialized from the model checkpoint at distilbert-base-uncased and are newly initialized: ['dropout_579', 'pre_classifier', 'classifier']\n",
            "You should probably TRAIN this model on a down-stream task to be able to use it for predictions and inference.\n"
          ]
        },
        {
          "output_type": "stream",
          "name": "stdout",
          "text": [
            "Model: \"tf_distil_bert_for_sequence_classification_28\"\n",
            "_________________________________________________________________\n",
            " Layer (type)                Output Shape              Param #   \n",
            "=================================================================\n",
            " distilbert (TFDistilBertMa  multiple                  66362880  \n",
            " inLayer)                                                        \n",
            "                                                                 \n",
            " pre_classifier (Dense)      multiple                  590592    \n",
            "                                                                 \n",
            " classifier (Dense)          multiple                  2307      \n",
            "                                                                 \n",
            " dropout_579 (Dropout)       multiple                  0         \n",
            "                                                                 \n",
            "=================================================================\n",
            "Total params: 66955779 (255.42 MB)\n",
            "Trainable params: 66955779 (255.42 MB)\n",
            "Non-trainable params: 0 (0.00 Byte)\n",
            "_________________________________________________________________\n",
            "29/29 [==============================] - 8s 161ms/step - loss: 1.1227 - accuracy: 0.1322\n",
            "Test Loss: 1.122727870941162, Test Accuracy: 0.13215859234333038\n"
          ]
        }
      ]
    },
    {
      "cell_type": "markdown",
      "source": [
        "Result:\n",
        "\n",
        "Accuracy for pre-trained model (Not fine tuned) : 13.2%\n",
        "\n",
        "Accuracy for LoRA fine tuned model : 93.3%\n",
        "\n",
        "Conclusion: Clearly LoRA fine tuned model is better"
      ],
      "metadata": {
        "id": "-8i51-Fi4o01"
      }
    },
    {
      "cell_type": "markdown",
      "source": [
        "# Q) How does the performance of the model fine-tuned with LoRA compare to that of the model fine-tuned using the conventional approach?"
      ],
      "metadata": {
        "id": "VtLLCagO4WSy"
      }
    },
    {
      "cell_type": "markdown",
      "source": [
        "Result:\n",
        "\n",
        "Accuracy for fine tuned model using conventional approach (Train whole model except fine tuned head) : 95.5%\n",
        "\n",
        "Accuracy for LoRA fine tuned model (Train whole model with LoRA except fine tuned head) : 93.3%\n",
        "\n",
        "Conclusion: Both the models perform almost equally"
      ],
      "metadata": {
        "id": "e5e46-JT5M5l"
      }
    },
    {
      "cell_type": "markdown",
      "source": [
        "# Q) How many LoRA parameters for each FFN block"
      ],
      "metadata": {
        "id": "rnDSIBWkuCBa"
      }
    },
    {
      "cell_type": "markdown",
      "source": [
        "Step 1: Calulate input and output dimensions (d_input and d_output) of the distilbert model"
      ],
      "metadata": {
        "id": "KzZHZFtcuxgc"
      }
    },
    {
      "cell_type": "code",
      "source": [
        "from transformers import TFDistilBertForSequenceClassification\n",
        "\n",
        "checkpoint = \"distilbert-base-uncased\"\n",
        "model = TFDistilBertForSequenceClassification.from_pretrained(checkpoint, num_labels=3)\n",
        "\n",
        "# Retrieve the input and output dimensions from the first FFN block\n",
        "d_input = model.distilbert.transformer.layer[0].ffn.lin1.kernel.shape[0]\n",
        "d_output = model.distilbert.transformer.layer[0].ffn.lin1.kernel.shape[1]\n",
        "\n",
        "print(f\"Input dimension (d_input): {d_input}\")\n",
        "print(f\"Output dimension (d_output): {d_output}\")"
      ],
      "metadata": {
        "colab": {
          "base_uri": "https://localhost:8080/"
        },
        "id": "skdqmYfCyv5a",
        "outputId": "5880b044-dbe2-4767-f969-1e6ade7ae96c"
      },
      "execution_count": 51,
      "outputs": [
        {
          "output_type": "stream",
          "name": "stderr",
          "text": [
            "Some layers from the model checkpoint at distilbert-base-uncased were not used when initializing TFDistilBertForSequenceClassification: ['vocab_projector', 'vocab_layer_norm', 'vocab_transform', 'activation_13']\n",
            "- This IS expected if you are initializing TFDistilBertForSequenceClassification from the checkpoint of a model trained on another task or with another architecture (e.g. initializing a BertForSequenceClassification model from a BertForPreTraining model).\n",
            "- This IS NOT expected if you are initializing TFDistilBertForSequenceClassification from the checkpoint of a model that you expect to be exactly identical (initializing a BertForSequenceClassification model from a BertForSequenceClassification model).\n",
            "Some layers of TFDistilBertForSequenceClassification were not initialized from the model checkpoint at distilbert-base-uncased and are newly initialized: ['dropout_379', 'pre_classifier', 'classifier']\n",
            "You should probably TRAIN this model on a down-stream task to be able to use it for predictions and inference.\n"
          ]
        },
        {
          "output_type": "stream",
          "name": "stdout",
          "text": [
            "Input dimension (d_input): 768\n",
            "Output dimension (d_output): 3072\n"
          ]
        }
      ]
    },
    {
      "cell_type": "markdown",
      "source": [
        "Result:\n",
        "\n",
        "Input dimension (d_input): 768\n",
        "\n",
        "Output dimension (d_output): 3072"
      ],
      "metadata": {
        "id": "DuR9GqUK3Ldi"
      }
    },
    {
      "cell_type": "markdown",
      "source": [
        "Step 2: Calculate total LoRA parameters per FFN block\n",
        "\n",
        "Parameters = (d_input * r) + (r * d_output)\n",
        "\n",
        "where r is the rank used ie 8 in our code"
      ],
      "metadata": {
        "id": "X5iN3cxT0VZ1"
      }
    },
    {
      "cell_type": "code",
      "source": [
        "r = 8  # Rank used for LoRA\n",
        "\n",
        "# Calculate number of parameters for one FFN block (lin1 and lin2)\n",
        "def calculate_lora_parameters(d_input, d_output, rank):\n",
        "    return (d_input * rank) + (rank * d_output)\n",
        "\n",
        "lora_params_per_layer = calculate_lora_parameters(d_input, d_output, r)\n",
        "\n",
        "lora_params_per_ffn_block = lora_params_per_layer * 2\n",
        "\n",
        "print(f\"Number of LoRA parameters per layer: {lora_params_per_layer}\")\n",
        "print(f\"Total LoRA parameters per FFN block: {lora_params_per_ffn_block}\")"
      ],
      "metadata": {
        "colab": {
          "base_uri": "https://localhost:8080/"
        },
        "id": "b3Fd2-RVuGJL",
        "outputId": "0b124749-337f-4f68-898f-67edd53c9712"
      },
      "execution_count": 50,
      "outputs": [
        {
          "output_type": "stream",
          "name": "stdout",
          "text": [
            "Number of LoRA parameters per layer: 30720\n",
            "Total LoRA parameters per FFN block: 61440\n"
          ]
        }
      ]
    },
    {
      "cell_type": "markdown",
      "source": [
        "Result:\n",
        "\n",
        "Number of LoRA parameters per layer: 30720\n",
        "\n",
        "Total LoRA parameters per FFN block: 61440"
      ],
      "metadata": {
        "id": "IXpLcWsb3SKG"
      }
    },
    {
      "cell_type": "markdown",
      "source": [
        "# Q) How many LoRA parameters total (number of FFN blocks times the LoRA parameters per block)"
      ],
      "metadata": {
        "id": "5qMvurFpvkQs"
      }
    },
    {
      "cell_type": "markdown",
      "source": [
        "Step 1: Calculate number of transformer layers in distilbert model"
      ],
      "metadata": {
        "id": "pPXVTY7KwO5Y"
      }
    },
    {
      "cell_type": "code",
      "source": [
        "from transformers import TFDistilBertForSequenceClassification\n",
        "\n",
        "checkpoint = \"distilbert-base-uncased\"\n",
        "model = TFDistilBertForSequenceClassification.from_pretrained(checkpoint, num_labels=3)\n",
        "\n",
        "num_layers = len(model.distilbert.transformer.layer)\n",
        "\n",
        "print(f\"Number of transformer layers: {num_layers}\")"
      ],
      "metadata": {
        "colab": {
          "base_uri": "https://localhost:8080/"
        },
        "id": "JNcxgVwQyYoK",
        "outputId": "8898e202-b23f-4691-e9a0-1a16a26149f6"
      },
      "execution_count": 52,
      "outputs": [
        {
          "output_type": "stream",
          "name": "stderr",
          "text": [
            "Some layers from the model checkpoint at distilbert-base-uncased were not used when initializing TFDistilBertForSequenceClassification: ['vocab_projector', 'vocab_layer_norm', 'vocab_transform', 'activation_13']\n",
            "- This IS expected if you are initializing TFDistilBertForSequenceClassification from the checkpoint of a model trained on another task or with another architecture (e.g. initializing a BertForSequenceClassification model from a BertForPreTraining model).\n",
            "- This IS NOT expected if you are initializing TFDistilBertForSequenceClassification from the checkpoint of a model that you expect to be exactly identical (initializing a BertForSequenceClassification model from a BertForSequenceClassification model).\n",
            "Some layers of TFDistilBertForSequenceClassification were not initialized from the model checkpoint at distilbert-base-uncased and are newly initialized: ['dropout_399', 'pre_classifier', 'classifier']\n",
            "You should probably TRAIN this model on a down-stream task to be able to use it for predictions and inference.\n"
          ]
        },
        {
          "output_type": "stream",
          "name": "stdout",
          "text": [
            "Number of transformer layers: 6\n"
          ]
        }
      ]
    },
    {
      "cell_type": "markdown",
      "source": [
        "Result:\n",
        "\n",
        "Number of transformer layers: 6"
      ],
      "metadata": {
        "id": "A_xUdbNJ3XU9"
      }
    },
    {
      "cell_type": "markdown",
      "source": [
        "Step 2: Calculate total added parameters\n",
        "\n",
        "Each transformer layer contains 1 FFN block that consists of two dense layers (lin1 and lin2)\n",
        "\n",
        "*added_total = lora_params_per_ffn_block * num_layers*"
      ],
      "metadata": {
        "id": "diVfSKuQz_pu"
      }
    },
    {
      "cell_type": "code",
      "source": [
        "added_total = lora_params_per_ffn_block * num_layers\n",
        "\n",
        "print(f\"Number of LoRA parameters per layer: {lora_params_per_layer}\")\n",
        "print(f\"Total LoRA parameters per FFN block: {lora_params_per_ffn_block}\")\n",
        "print(f\"Total added LoRA parameters across all FFN blocks: {added_total}\")"
      ],
      "metadata": {
        "colab": {
          "base_uri": "https://localhost:8080/"
        },
        "id": "gPl3uqUevpUL",
        "outputId": "f1145210-2bc9-48f6-b144-b7e8fdf8a4bb"
      },
      "execution_count": 53,
      "outputs": [
        {
          "output_type": "stream",
          "name": "stdout",
          "text": [
            "Number of LoRA parameters per layer: 30720\n",
            "Total LoRA parameters per FFN block: 61440\n",
            "Total added LoRA parameters across all FFN blocks: 368640\n"
          ]
        }
      ]
    },
    {
      "cell_type": "markdown",
      "source": [
        "Result:\n",
        "\n",
        "Number of LoRA parameters per layer: 30720\n",
        "\n",
        "Total LoRA parameters per FFN block: 61440\n",
        "\n",
        "Total added LoRA parameters across all FFN blocks: 368640"
      ],
      "metadata": {
        "id": "yQJwF4h73aMu"
      }
    },
    {
      "cell_type": "markdown",
      "source": [
        "# Q) How many total parameters in your model ?"
      ],
      "metadata": {
        "id": "4x7aMFsLwfhb"
      }
    },
    {
      "cell_type": "markdown",
      "source": [
        "Step 1: Calculate the total number of parameters in the unmodified DistilBERT model"
      ],
      "metadata": {
        "id": "p_3a33M5zare"
      }
    },
    {
      "cell_type": "code",
      "source": [
        "from transformers import TFDistilBertForSequenceClassification\n",
        "\n",
        "checkpoint = \"distilbert-base-uncased\"\n",
        "model = TFDistilBertForSequenceClassification.from_pretrained(checkpoint, num_labels=3)\n",
        "\n",
        "def count_parameters(model):\n",
        "    return sum(np.prod(v.shape) for v in model.trainable_weights)\n",
        "\n",
        "# Calculate the total number of parameters in the unmodified DistilBERT model\n",
        "original_params = count_parameters(model)\n",
        "\n",
        "print(f\"Original DistilBERT parameters: {original_params}\")"
      ],
      "metadata": {
        "colab": {
          "base_uri": "https://localhost:8080/"
        },
        "id": "3YPsxJxdxhIF",
        "outputId": "48280c3d-f31a-4495-ecdf-566bf8d9767a"
      },
      "execution_count": 54,
      "outputs": [
        {
          "output_type": "stream",
          "name": "stderr",
          "text": [
            "Some layers from the model checkpoint at distilbert-base-uncased were not used when initializing TFDistilBertForSequenceClassification: ['vocab_projector', 'vocab_layer_norm', 'vocab_transform', 'activation_13']\n",
            "- This IS expected if you are initializing TFDistilBertForSequenceClassification from the checkpoint of a model trained on another task or with another architecture (e.g. initializing a BertForSequenceClassification model from a BertForPreTraining model).\n",
            "- This IS NOT expected if you are initializing TFDistilBertForSequenceClassification from the checkpoint of a model that you expect to be exactly identical (initializing a BertForSequenceClassification model from a BertForSequenceClassification model).\n",
            "Some layers of TFDistilBertForSequenceClassification were not initialized from the model checkpoint at distilbert-base-uncased and are newly initialized: ['dropout_419', 'pre_classifier', 'classifier']\n",
            "You should probably TRAIN this model on a down-stream task to be able to use it for predictions and inference.\n"
          ]
        },
        {
          "output_type": "stream",
          "name": "stdout",
          "text": [
            "Original DistilBERT parameters: 66955779\n"
          ]
        }
      ]
    },
    {
      "cell_type": "markdown",
      "source": [
        "Result:\n",
        "\n",
        "Original DistilBERT parameters: 66955779"
      ],
      "metadata": {
        "id": "GxvmOXvF3g_0"
      }
    },
    {
      "cell_type": "markdown",
      "source": [
        "Step 2: Calculate the Total parameters in the model <br>\n",
        "*(total_parameters = original_params + added_total)*\n"
      ],
      "metadata": {
        "id": "k7JfHpCTzhRK"
      }
    },
    {
      "cell_type": "code",
      "source": [
        "# Total parameters in the model\n",
        "total_parameters = original_params + added_total\n",
        "\n",
        "print(f\"Original DistilBERT parameters: {original_params}\")\n",
        "print(f\"Added LoRA parameters: {added_total}\")\n",
        "print(f\"Total parameters in the adapted model: {total_parameters}\")"
      ],
      "metadata": {
        "colab": {
          "base_uri": "https://localhost:8080/"
        },
        "id": "YSYacSujwmlu",
        "outputId": "0211423d-f990-491a-d48b-87a765d76951"
      },
      "execution_count": 55,
      "outputs": [
        {
          "output_type": "stream",
          "name": "stdout",
          "text": [
            "Original DistilBERT parameters: 66955779\n",
            "Added LoRA parameters: 368640\n",
            "Total parameters in the adapted model: 67324419\n"
          ]
        }
      ]
    },
    {
      "cell_type": "markdown",
      "source": [
        "Result:\n",
        "\n",
        "Original DistilBERT parameters: 66955779\n",
        "\n",
        "Added LoRA parameters: 368640\n",
        "\n",
        "Total parameters in the adapted model: 67324419"
      ],
      "metadata": {
        "id": "TeqkteGw3li1"
      }
    },
    {
      "cell_type": "markdown",
      "source": [
        "# assert(added_total == added_parms_calc)"
      ],
      "metadata": {
        "id": "TflpBsT21Ntv"
      }
    },
    {
      "cell_type": "code",
      "source": [
        "from transformers import TFDistilBertForSequenceClassification\n",
        "\n",
        "checkpoint = \"distilbert-base-uncased\"\n",
        "model = TFDistilBertForSequenceClassification.from_pretrained(checkpoint)\n",
        "\n",
        "d_input = model.distilbert.transformer.layer[0].ffn.lin1.kernel.shape[0]\n",
        "d_output = model.distilbert.transformer.layer[0].ffn.lin1.kernel.shape[1]\n",
        "num_layers = len(model.distilbert.transformer.layer)\n",
        "r = 8  # Rank used for LoRA\n",
        "\n",
        "def calculate_lora_parameters(d_input, d_output, rank):\n",
        "    return (d_input * rank) + (rank * d_output)\n",
        "\n",
        "lora_params_per_layer = calculate_lora_parameters(d_input, d_output, r)\n",
        "\n",
        "lora_params_per_ffn_block = lora_params_per_layer * 2\n",
        "\n",
        "added_parms_calc = lora_params_per_ffn_block * num_layers\n",
        "\n",
        "added_total = added_parms_calc\n",
        "\n",
        "# Assertion to verify the numbers match\n",
        "assert(added_total == added_parms_calc)\n",
        "\n",
        "print(f\"Calculated trainable parameters added by LoRA: {added_parms_calc}\")"
      ],
      "metadata": {
        "colab": {
          "base_uri": "https://localhost:8080/"
        },
        "id": "tvsErZJx1N41",
        "outputId": "ac04ed76-1f5f-4ace-e4ee-ff0130212f01"
      },
      "execution_count": 58,
      "outputs": [
        {
          "output_type": "stream",
          "name": "stderr",
          "text": [
            "Some layers from the model checkpoint at distilbert-base-uncased were not used when initializing TFDistilBertForSequenceClassification: ['vocab_projector', 'vocab_layer_norm', 'vocab_transform', 'activation_13']\n",
            "- This IS expected if you are initializing TFDistilBertForSequenceClassification from the checkpoint of a model trained on another task or with another architecture (e.g. initializing a BertForSequenceClassification model from a BertForPreTraining model).\n",
            "- This IS NOT expected if you are initializing TFDistilBertForSequenceClassification from the checkpoint of a model that you expect to be exactly identical (initializing a BertForSequenceClassification model from a BertForSequenceClassification model).\n",
            "Some layers of TFDistilBertForSequenceClassification were not initialized from the model checkpoint at distilbert-base-uncased and are newly initialized: ['dropout_479', 'pre_classifier', 'classifier']\n",
            "You should probably TRAIN this model on a down-stream task to be able to use it for predictions and inference.\n"
          ]
        },
        {
          "output_type": "stream",
          "name": "stdout",
          "text": [
            "Calculated trainable parameters added by LoRA: 368640\n"
          ]
        }
      ]
    },
    {
      "cell_type": "markdown",
      "source": [
        "Result:\n",
        "\n",
        "Calculated trainable parameters added by LoRA: 368640\n",
        "\n",
        "Assertion is true!"
      ],
      "metadata": {
        "id": "vXIlrQAQ3yRP"
      }
    },
    {
      "cell_type": "markdown",
      "source": [
        "# Experiment with the rank used in LoRA\n",
        "\n",
        "Changing rank and checking accuracy"
      ],
      "metadata": {
        "id": "97Hv0ePo-xLk"
      }
    },
    {
      "cell_type": "code",
      "source": [
        "import tensorflow as tf\n",
        "from transformers import TFDistilBertForSequenceClassification, DistilBertConfig\n",
        "\n",
        "class LoRALayer(tf.keras.layers.Layer):\n",
        "    def __init__(self, original_layer, rank):\n",
        "        super(LoRALayer, self).__init__()\n",
        "        self.original_layer = original_layer\n",
        "        self.rank = rank\n",
        "        self.input_dim = original_layer.kernel.shape[0]\n",
        "        self.output_dim = original_layer.kernel.shape[1]\n",
        "\n",
        "        # Initialize LoRA parameters\n",
        "        self.A = self.add_weight(shape=(self.input_dim, rank), initializer='glorot_uniform', trainable=True)\n",
        "        self.B = self.add_weight(shape=(rank, self.output_dim), initializer='glorot_uniform', trainable=True)\n",
        "        self.lora_alpha = 1.0\n",
        "\n",
        "    def call(self, inputs):\n",
        "        original_output = self.original_layer(inputs)\n",
        "        lora_update = self.lora_alpha * tf.matmul(inputs, tf.matmul(self.A, self.B))\n",
        "        return original_output + lora_update\n",
        "\n",
        "# List of ranks to test\n",
        "ranks = [2, 4, 8, 16, 32, 64]\n",
        "test_losses = []\n",
        "test_accuracies = []\n",
        "\n",
        "for lora_rank in ranks:\n",
        "    print(f\"Training with LoRA rank: {lora_rank}\")\n",
        "    model_lora = TFDistilBertForSequenceClassification.from_pretrained(\"distilbert-base-uncased\", num_labels=3)\n",
        "    model_lora.load_weights('classifier_head_weights.h5', by_name=True)\n",
        "\n",
        "    # Apply LoRA layers\n",
        "    for i, layer in enumerate(model_lora.distilbert.transformer.layer):\n",
        "        original_lin1 = layer.ffn.lin1\n",
        "        original_lin2 = layer.ffn.lin2\n",
        "        layer.ffn.lin1 = LoRALayer(original_lin1, rank=lora_rank)\n",
        "        layer.ffn.lin2 = LoRALayer(original_lin2, rank=lora_rank)\n",
        "\n",
        "        original_lin1.trainable = False\n",
        "        original_lin2.trainable = False\n",
        "\n",
        "    # Freeze classifier head\n",
        "    model_lora.pre_classifier.trainable = False\n",
        "    model_lora.classifier.trainable = False\n",
        "\n",
        "    # Freeze all other parameters except for the LoRA parameters\n",
        "    for layer in model_lora.distilbert.transformer.layer:\n",
        "        layer.attention.trainable = False\n",
        "\n",
        "    optimizer = tf.keras.optimizers.Adam(learning_rate=tf.keras.optimizers.schedules.PolynomialDecay(\n",
        "        initial_learning_rate=5e-5,\n",
        "        decay_steps=10000,\n",
        "        end_learning_rate=0.0,\n",
        "        power=1.0\n",
        "    ))\n",
        "    model_lora.compile(optimizer=optimizer, loss=tf.keras.losses.SparseCategoricalCrossentropy(from_logits=True), metrics=['accuracy'])\n",
        "\n",
        "    model_lora.summary()\n",
        "\n",
        "    # Train the model\n",
        "    model_lora.fit(tf_train_dataset, epochs=3, validation_data=tf_validation_dataset)\n",
        "\n",
        "    # Evaluate the model\n",
        "    test_loss, test_accuracy = model_lora.evaluate(tf_test_dataset)\n",
        "    test_losses.append(test_loss)\n",
        "    test_accuracies.append(test_accuracy)\n",
        "\n",
        "    print(f\"Rank: {lora_rank}, Test Loss: {test_loss}, Test Accuracy: {test_accuracy}\")"
      ],
      "metadata": {
        "colab": {
          "base_uri": "https://localhost:8080/"
        },
        "id": "nlGyYrRF-6L9",
        "outputId": "a182d4b9-bff5-4bf9-daef-1b6bde3f3712"
      },
      "execution_count": 68,
      "outputs": [
        {
          "output_type": "stream",
          "name": "stdout",
          "text": [
            "Training with LoRA rank: 2\n"
          ]
        },
        {
          "output_type": "stream",
          "name": "stderr",
          "text": [
            "Some layers from the model checkpoint at distilbert-base-uncased were not used when initializing TFDistilBertForSequenceClassification: ['vocab_projector', 'vocab_layer_norm', 'vocab_transform', 'activation_13']\n",
            "- This IS expected if you are initializing TFDistilBertForSequenceClassification from the checkpoint of a model trained on another task or with another architecture (e.g. initializing a BertForSequenceClassification model from a BertForPreTraining model).\n",
            "- This IS NOT expected if you are initializing TFDistilBertForSequenceClassification from the checkpoint of a model that you expect to be exactly identical (initializing a BertForSequenceClassification model from a BertForSequenceClassification model).\n",
            "Some layers of TFDistilBertForSequenceClassification were not initialized from the model checkpoint at distilbert-base-uncased and are newly initialized: ['pre_classifier', 'dropout_679', 'classifier']\n",
            "You should probably TRAIN this model on a down-stream task to be able to use it for predictions and inference.\n"
          ]
        },
        {
          "output_type": "stream",
          "name": "stdout",
          "text": [
            "Model: \"tf_distil_bert_for_sequence_classification_33\"\n",
            "_________________________________________________________________\n",
            " Layer (type)                Output Shape              Param #   \n",
            "=================================================================\n",
            " distilbert (TFDistilBertMa  multiple                  66455040  \n",
            " inLayer)                                                        \n",
            "                                                                 \n",
            " pre_classifier (Dense)      multiple                  590592    \n",
            "                                                                 \n",
            " classifier (Dense)          multiple                  2307      \n",
            "                                                                 \n",
            " dropout_679 (Dropout)       multiple                  0         \n",
            "                                                                 \n",
            "=================================================================\n",
            "Total params: 67047939 (255.77 MB)\n",
            "Trainable params: 23946240 (91.35 MB)\n",
            "Non-trainable params: 43101699 (164.42 MB)\n",
            "_________________________________________________________________\n",
            "Epoch 1/3\n",
            "227/227 [==============================] - 230s 594ms/step - loss: 0.4230 - accuracy: 0.8045 - val_loss: 0.4207 - val_accuracy: 0.7876\n",
            "Epoch 2/3\n",
            "227/227 [==============================] - 136s 599ms/step - loss: 0.3051 - accuracy: 0.8923 - val_loss: 0.3214 - val_accuracy: 0.8407\n",
            "Epoch 3/3\n",
            "227/227 [==============================] - 136s 600ms/step - loss: 0.1842 - accuracy: 0.9481 - val_loss: 0.2307 - val_accuracy: 0.8982\n",
            "29/29 [==============================] - 6s 219ms/step - loss: 0.2493 - accuracy: 0.9163\n",
            "Rank: 2, Test Loss: 0.24926377832889557, Test Accuracy: 0.91629958152771\n",
            "Training with LoRA rank: 4\n"
          ]
        },
        {
          "output_type": "stream",
          "name": "stderr",
          "text": [
            "Some layers from the model checkpoint at distilbert-base-uncased were not used when initializing TFDistilBertForSequenceClassification: ['vocab_projector', 'vocab_layer_norm', 'vocab_transform', 'activation_13']\n",
            "- This IS expected if you are initializing TFDistilBertForSequenceClassification from the checkpoint of a model trained on another task or with another architecture (e.g. initializing a BertForSequenceClassification model from a BertForPreTraining model).\n",
            "- This IS NOT expected if you are initializing TFDistilBertForSequenceClassification from the checkpoint of a model that you expect to be exactly identical (initializing a BertForSequenceClassification model from a BertForSequenceClassification model).\n",
            "Some layers of TFDistilBertForSequenceClassification were not initialized from the model checkpoint at distilbert-base-uncased and are newly initialized: ['classifier', 'pre_classifier', 'dropout_699']\n",
            "You should probably TRAIN this model on a down-stream task to be able to use it for predictions and inference.\n"
          ]
        },
        {
          "output_type": "stream",
          "name": "stdout",
          "text": [
            "Model: \"tf_distil_bert_for_sequence_classification_34\"\n",
            "_________________________________________________________________\n",
            " Layer (type)                Output Shape              Param #   \n",
            "=================================================================\n",
            " distilbert (TFDistilBertMa  multiple                  66547200  \n",
            " inLayer)                                                        \n",
            "                                                                 \n",
            " pre_classifier (Dense)      multiple                  590592    \n",
            "                                                                 \n",
            " classifier (Dense)          multiple                  2307      \n",
            "                                                                 \n",
            " dropout_699 (Dropout)       multiple                  0         \n",
            "                                                                 \n",
            "=================================================================\n",
            "Total params: 67140099 (256.12 MB)\n",
            "Trainable params: 24038400 (91.70 MB)\n",
            "Non-trainable params: 43101699 (164.42 MB)\n",
            "_________________________________________________________________\n",
            "Epoch 1/3\n",
            "227/227 [==============================] - 153s 611ms/step - loss: 0.4198 - accuracy: 0.8040 - val_loss: 0.3918 - val_accuracy: 0.8142\n",
            "Epoch 2/3\n",
            "227/227 [==============================] - 133s 586ms/step - loss: 0.2772 - accuracy: 0.9050 - val_loss: 0.2669 - val_accuracy: 0.8850\n",
            "Epoch 3/3\n",
            "227/227 [==============================] - 136s 601ms/step - loss: 0.1449 - accuracy: 0.9663 - val_loss: 0.2032 - val_accuracy: 0.9292\n",
            "29/29 [==============================] - 6s 220ms/step - loss: 0.2167 - accuracy: 0.9295\n",
            "Rank: 4, Test Loss: 0.2166893035173416, Test Accuracy: 0.9295154213905334\n",
            "Training with LoRA rank: 8\n"
          ]
        },
        {
          "output_type": "stream",
          "name": "stderr",
          "text": [
            "Some layers from the model checkpoint at distilbert-base-uncased were not used when initializing TFDistilBertForSequenceClassification: ['vocab_projector', 'vocab_layer_norm', 'vocab_transform', 'activation_13']\n",
            "- This IS expected if you are initializing TFDistilBertForSequenceClassification from the checkpoint of a model trained on another task or with another architecture (e.g. initializing a BertForSequenceClassification model from a BertForPreTraining model).\n",
            "- This IS NOT expected if you are initializing TFDistilBertForSequenceClassification from the checkpoint of a model that you expect to be exactly identical (initializing a BertForSequenceClassification model from a BertForSequenceClassification model).\n",
            "Some layers of TFDistilBertForSequenceClassification were not initialized from the model checkpoint at distilbert-base-uncased and are newly initialized: ['dropout_719', 'pre_classifier', 'classifier']\n",
            "You should probably TRAIN this model on a down-stream task to be able to use it for predictions and inference.\n"
          ]
        },
        {
          "output_type": "stream",
          "name": "stdout",
          "text": [
            "Model: \"tf_distil_bert_for_sequence_classification_35\"\n",
            "_________________________________________________________________\n",
            " Layer (type)                Output Shape              Param #   \n",
            "=================================================================\n",
            " distilbert (TFDistilBertMa  multiple                  66731520  \n",
            " inLayer)                                                        \n",
            "                                                                 \n",
            " pre_classifier (Dense)      multiple                  590592    \n",
            "                                                                 \n",
            " classifier (Dense)          multiple                  2307      \n",
            "                                                                 \n",
            " dropout_719 (Dropout)       multiple                  0         \n",
            "                                                                 \n",
            "=================================================================\n",
            "Total params: 67324419 (256.82 MB)\n",
            "Trainable params: 24222720 (92.40 MB)\n",
            "Non-trainable params: 43101699 (164.42 MB)\n",
            "_________________________________________________________________\n",
            "Epoch 1/3\n",
            "227/227 [==============================] - 149s 596ms/step - loss: 0.4097 - accuracy: 0.8117 - val_loss: 0.3641 - val_accuracy: 0.8319\n",
            "Epoch 2/3\n",
            "227/227 [==============================] - 136s 600ms/step - loss: 0.2283 - accuracy: 0.9266 - val_loss: 0.2284 - val_accuracy: 0.9071\n",
            "Epoch 3/3\n",
            "227/227 [==============================] - 136s 600ms/step - loss: 0.1191 - accuracy: 0.9729 - val_loss: 0.1813 - val_accuracy: 0.9115\n",
            "29/29 [==============================] - 6s 220ms/step - loss: 0.1913 - accuracy: 0.9427\n",
            "Rank: 8, Test Loss: 0.19132132828235626, Test Accuracy: 0.9427312612533569\n",
            "Training with LoRA rank: 16\n"
          ]
        },
        {
          "output_type": "stream",
          "name": "stderr",
          "text": [
            "Some layers from the model checkpoint at distilbert-base-uncased were not used when initializing TFDistilBertForSequenceClassification: ['vocab_projector', 'vocab_layer_norm', 'vocab_transform', 'activation_13']\n",
            "- This IS expected if you are initializing TFDistilBertForSequenceClassification from the checkpoint of a model trained on another task or with another architecture (e.g. initializing a BertForSequenceClassification model from a BertForPreTraining model).\n",
            "- This IS NOT expected if you are initializing TFDistilBertForSequenceClassification from the checkpoint of a model that you expect to be exactly identical (initializing a BertForSequenceClassification model from a BertForSequenceClassification model).\n",
            "Some layers of TFDistilBertForSequenceClassification were not initialized from the model checkpoint at distilbert-base-uncased and are newly initialized: ['dropout_739', 'pre_classifier', 'classifier']\n",
            "You should probably TRAIN this model on a down-stream task to be able to use it for predictions and inference.\n"
          ]
        },
        {
          "output_type": "stream",
          "name": "stdout",
          "text": [
            "Model: \"tf_distil_bert_for_sequence_classification_36\"\n",
            "_________________________________________________________________\n",
            " Layer (type)                Output Shape              Param #   \n",
            "=================================================================\n",
            " distilbert (TFDistilBertMa  multiple                  67100160  \n",
            " inLayer)                                                        \n",
            "                                                                 \n",
            " pre_classifier (Dense)      multiple                  590592    \n",
            "                                                                 \n",
            " classifier (Dense)          multiple                  2307      \n",
            "                                                                 \n",
            " dropout_739 (Dropout)       multiple                  0         \n",
            "                                                                 \n",
            "=================================================================\n",
            "Total params: 67693059 (258.23 MB)\n",
            "Trainable params: 24591360 (93.81 MB)\n",
            "Non-trainable params: 43101699 (164.42 MB)\n",
            "_________________________________________________________________\n",
            "Epoch 1/3\n",
            "227/227 [==============================] - 152s 614ms/step - loss: 0.3815 - accuracy: 0.8332 - val_loss: 0.3053 - val_accuracy: 0.8628\n",
            "Epoch 2/3\n",
            "227/227 [==============================] - 133s 587ms/step - loss: 0.1830 - accuracy: 0.9475 - val_loss: 0.1892 - val_accuracy: 0.9292\n",
            "Epoch 3/3\n",
            "227/227 [==============================] - 137s 602ms/step - loss: 0.0904 - accuracy: 0.9779 - val_loss: 0.1484 - val_accuracy: 0.9381\n",
            "29/29 [==============================] - 6s 219ms/step - loss: 0.1646 - accuracy: 0.9427\n",
            "Rank: 16, Test Loss: 0.1646149456501007, Test Accuracy: 0.9427312612533569\n",
            "Training with LoRA rank: 32\n"
          ]
        },
        {
          "output_type": "stream",
          "name": "stderr",
          "text": [
            "Some layers from the model checkpoint at distilbert-base-uncased were not used when initializing TFDistilBertForSequenceClassification: ['vocab_projector', 'vocab_layer_norm', 'vocab_transform', 'activation_13']\n",
            "- This IS expected if you are initializing TFDistilBertForSequenceClassification from the checkpoint of a model trained on another task or with another architecture (e.g. initializing a BertForSequenceClassification model from a BertForPreTraining model).\n",
            "- This IS NOT expected if you are initializing TFDistilBertForSequenceClassification from the checkpoint of a model that you expect to be exactly identical (initializing a BertForSequenceClassification model from a BertForSequenceClassification model).\n",
            "Some layers of TFDistilBertForSequenceClassification were not initialized from the model checkpoint at distilbert-base-uncased and are newly initialized: ['dropout_759', 'pre_classifier', 'classifier']\n",
            "You should probably TRAIN this model on a down-stream task to be able to use it for predictions and inference.\n"
          ]
        },
        {
          "output_type": "stream",
          "name": "stdout",
          "text": [
            "Model: \"tf_distil_bert_for_sequence_classification_37\"\n",
            "_________________________________________________________________\n",
            " Layer (type)                Output Shape              Param #   \n",
            "=================================================================\n",
            " distilbert (TFDistilBertMa  multiple                  67837440  \n",
            " inLayer)                                                        \n",
            "                                                                 \n",
            " pre_classifier (Dense)      multiple                  590592    \n",
            "                                                                 \n",
            " classifier (Dense)          multiple                  2307      \n",
            "                                                                 \n",
            " dropout_759 (Dropout)       multiple                  0         \n",
            "                                                                 \n",
            "=================================================================\n",
            "Total params: 68430339 (261.04 MB)\n",
            "Trainable params: 25328640 (96.62 MB)\n",
            "Non-trainable params: 43101699 (164.42 MB)\n",
            "_________________________________________________________________\n",
            "Epoch 1/3\n",
            "227/227 [==============================] - 150s 599ms/step - loss: 0.3473 - accuracy: 0.8647 - val_loss: 0.2311 - val_accuracy: 0.9027\n",
            "Epoch 2/3\n",
            "227/227 [==============================] - 136s 601ms/step - loss: 0.1320 - accuracy: 0.9608 - val_loss: 0.1694 - val_accuracy: 0.9381\n",
            "Epoch 3/3\n",
            "227/227 [==============================] - 137s 602ms/step - loss: 0.0609 - accuracy: 0.9845 - val_loss: 0.1500 - val_accuracy: 0.9381\n",
            "29/29 [==============================] - 6s 220ms/step - loss: 0.1506 - accuracy: 0.9559\n",
            "Rank: 32, Test Loss: 0.15063133835792542, Test Accuracy: 0.9559471607208252\n",
            "Training with LoRA rank: 64\n"
          ]
        },
        {
          "output_type": "stream",
          "name": "stderr",
          "text": [
            "Some layers from the model checkpoint at distilbert-base-uncased were not used when initializing TFDistilBertForSequenceClassification: ['vocab_projector', 'vocab_layer_norm', 'vocab_transform', 'activation_13']\n",
            "- This IS expected if you are initializing TFDistilBertForSequenceClassification from the checkpoint of a model trained on another task or with another architecture (e.g. initializing a BertForSequenceClassification model from a BertForPreTraining model).\n",
            "- This IS NOT expected if you are initializing TFDistilBertForSequenceClassification from the checkpoint of a model that you expect to be exactly identical (initializing a BertForSequenceClassification model from a BertForSequenceClassification model).\n",
            "Some layers of TFDistilBertForSequenceClassification were not initialized from the model checkpoint at distilbert-base-uncased and are newly initialized: ['classifier', 'pre_classifier', 'dropout_779']\n",
            "You should probably TRAIN this model on a down-stream task to be able to use it for predictions and inference.\n"
          ]
        },
        {
          "output_type": "stream",
          "name": "stdout",
          "text": [
            "Model: \"tf_distil_bert_for_sequence_classification_38\"\n",
            "_________________________________________________________________\n",
            " Layer (type)                Output Shape              Param #   \n",
            "=================================================================\n",
            " distilbert (TFDistilBertMa  multiple                  69312000  \n",
            " inLayer)                                                        \n",
            "                                                                 \n",
            " pre_classifier (Dense)      multiple                  590592    \n",
            "                                                                 \n",
            " classifier (Dense)          multiple                  2307      \n",
            "                                                                 \n",
            " dropout_779 (Dropout)       multiple                  0         \n",
            "                                                                 \n",
            "=================================================================\n",
            "Total params: 69904899 (266.67 MB)\n",
            "Trainable params: 26803200 (102.25 MB)\n",
            "Non-trainable params: 43101699 (164.42 MB)\n",
            "_________________________________________________________________\n",
            "Epoch 1/3\n",
            "227/227 [==============================] - 149s 598ms/step - loss: 0.3133 - accuracy: 0.8741 - val_loss: 0.2282 - val_accuracy: 0.9204\n",
            "Epoch 2/3\n",
            "227/227 [==============================] - 137s 603ms/step - loss: 0.0978 - accuracy: 0.9740 - val_loss: 0.1352 - val_accuracy: 0.9469\n",
            "Epoch 3/3\n",
            "227/227 [==============================] - 133s 586ms/step - loss: 0.0445 - accuracy: 0.9917 - val_loss: 0.1109 - val_accuracy: 0.9602\n",
            "29/29 [==============================] - 6s 219ms/step - loss: 0.1438 - accuracy: 0.9515\n",
            "Rank: 64, Test Loss: 0.14382952451705933, Test Accuracy: 0.9515418410301208\n"
          ]
        }
      ]
    },
    {
      "cell_type": "markdown",
      "source": [
        "Result:\n",
        "\n",
        "\n",
        "| Rank | Total Parameters | Trainable Parameters | Non-trainable Parameters | Test Loss | Test Accuracy |\n",
        "|------|------------------|----------------------|--------------------------|-----------|---------------|\n",
        "| 2    | 67,047,939       | 23,946,240           | 43,101,699               | 0.2493    | 91.63%        |\n",
        "| 4    | 67,140,099       | 24,038,400           | 43,101,699               | 0.2167    | 92.95%        |\n",
        "| 8    | 67,324,419       | 24,222,720           | 43,101,699               | 0.1913    | 94.27%        |\n",
        "| 16   | 67,693,059       | 24,591,360           | 43,101,699               | 0.1646    | 94.27%        |\n",
        "| 32   | 68,430,339       | 25,328,640           | 43,101,699               | 0.1506    | 95.59%        |\n",
        "| 64   | 69,904,899       | 26,803,200           | 43,101,699               | 0.1438    | 95.15%        |\n"
      ],
      "metadata": {
        "id": "L2gPU9SaX8bV"
      }
    },
    {
      "cell_type": "code",
      "source": [
        "import matplotlib.pyplot as plt\n",
        "\n",
        "# Plot results\n",
        "plt.figure(figsize=(10, 5))\n",
        "plt.subplot(1, 2, 1)\n",
        "plt.plot(ranks, test_losses, marker='o', color='b')\n",
        "plt.title('Rank vs Test Loss')\n",
        "plt.xlabel('Rank')\n",
        "plt.ylabel('Test Loss')\n",
        "\n",
        "plt.subplot(1, 2, 2)\n",
        "plt.plot(ranks, test_accuracies, marker='o', color='r')\n",
        "plt.title('Rank vs Test Accuracy')\n",
        "plt.xlabel('Rank')\n",
        "plt.ylabel('Test Accuracy')\n",
        "\n",
        "plt.tight_layout()\n",
        "plt.show()"
      ],
      "metadata": {
        "colab": {
          "base_uri": "https://localhost:8080/",
          "height": 507
        },
        "id": "Ik4eG29KBdgE",
        "outputId": "16643ae6-b91a-45e3-c6f8-5745a44dec26"
      },
      "execution_count": 69,
      "outputs": [
        {
          "output_type": "display_data",
          "data": {
            "text/plain": [
              "<Figure size 1000x500 with 2 Axes>"
            ],
            "image/png": "[encoded data removed]"
          },
          "metadata": {}
        }
      ]
    },
    {
      "cell_type": "markdown",
      "source": [
        "As the rank as increase we can see an increase in accuracy but up to a point and after that it decreases as it might be overfitting.\n",
        "\n",
        "Increasing the rank is also increasing the computational resource required to train the model\n"
      ],
      "metadata": {
        "id": "nuYX9ykgO0Zg"
      }
    }
  ]
}